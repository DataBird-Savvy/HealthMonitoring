{
 "cells": [
  {
   "cell_type": "code",
   "execution_count": 76,
   "id": "08641400",
   "metadata": {},
   "outputs": [],
   "source": [
    "import pandas as pd"
   ]
  },
  {
   "cell_type": "code",
   "execution_count": 77,
   "id": "9a1d2c7c",
   "metadata": {},
   "outputs": [],
   "source": [
    "reference_data=pd.read_csv(\"D:/EDrivebackup/brocamp/DataScienceProjects/bw2_prj/HealthMonitoring/data/merged_patient_data.csv\")"
   ]
  },
  {
   "cell_type": "code",
   "execution_count": 78,
   "id": "2588d874",
   "metadata": {},
   "outputs": [],
   "source": [
    "current_data=pd.read_csv(\"D:/EDrivebackup/brocamp/DataScienceProjects/bw2_prj/HealthMonitoring/artifacts/merged_patient_kafka_data.csv\")"
   ]
  },
  {
   "cell_type": "code",
   "execution_count": 79,
   "id": "1b41d915",
   "metadata": {},
   "outputs": [
    {
     "name": "stdout",
     "output_type": "stream",
     "text": [
      "Defaulting to user installation because normal site-packages is not writeable\n",
      "Requirement already satisfied: evidently==0.6.4 in c:\\users\\user\\appdata\\roaming\\python\\python311\\site-packages (0.6.4)\n",
      "Requirement already satisfied: plotly<6,>=5.10.0 in c:\\users\\user\\appdata\\roaming\\python\\python311\\site-packages (from evidently==0.6.4) (5.24.1)\n",
      "Requirement already satisfied: statsmodels>=0.12.2 in d:\\programdata\\anaconda3\\lib\\site-packages (from evidently==0.6.4) (0.14.0)\n",
      "Requirement already satisfied: scikit-learn>=1.0.1 in d:\\programdata\\anaconda3\\lib\\site-packages (from evidently==0.6.4) (1.3.0)\n",
      "Requirement already satisfied: pandas>=1.3.5 in c:\\users\\user\\appdata\\roaming\\python\\python311\\site-packages (from pandas[parquet]>=1.3.5->evidently==0.6.4) (2.2.3)\n",
      "Requirement already satisfied: numpy<2.1,>=1.22.0 in d:\\programdata\\anaconda3\\lib\\site-packages (from evidently==0.6.4) (1.24.3)\n",
      "Requirement already satisfied: nltk>=3.6.7 in d:\\programdata\\anaconda3\\lib\\site-packages (from evidently==0.6.4) (3.8.1)\n",
      "Requirement already satisfied: scipy>=1.10.0 in d:\\programdata\\anaconda3\\lib\\site-packages (from evidently==0.6.4) (1.11.1)\n",
      "Requirement already satisfied: requests>=2.32.0 in c:\\users\\user\\appdata\\roaming\\python\\python311\\site-packages (from evidently==0.6.4) (2.32.3)\n",
      "Requirement already satisfied: PyYAML>=5.4 in c:\\users\\user\\appdata\\roaming\\python\\python311\\site-packages (from evidently==0.6.4) (6.0.2)\n",
      "Requirement already satisfied: pydantic>=1.10.13 in c:\\users\\user\\appdata\\roaming\\python\\python311\\site-packages (from evidently==0.6.4) (1.10.22)\n",
      "Requirement already satisfied: litestar>=2.8.3 in c:\\users\\user\\appdata\\roaming\\python\\python311\\site-packages (from evidently==0.6.4) (2.16.0)\n",
      "Requirement already satisfied: typing-inspect>=0.9.0 in c:\\users\\user\\appdata\\roaming\\python\\python311\\site-packages (from evidently==0.6.4) (0.9.0)\n",
      "Requirement already satisfied: uvicorn>=0.22.0 in c:\\users\\user\\appdata\\roaming\\python\\python311\\site-packages (from uvicorn[standard]>=0.22.0->evidently==0.6.4) (0.34.2)\n",
      "Requirement already satisfied: watchdog>=3.0.0 in c:\\users\\user\\appdata\\roaming\\python\\python311\\site-packages (from evidently==0.6.4) (6.0.0)\n",
      "Requirement already satisfied: typer>=0.3 in c:\\users\\user\\appdata\\roaming\\python\\python311\\site-packages (from evidently==0.6.4) (0.15.3)\n",
      "Requirement already satisfied: rich>=13 in c:\\users\\user\\appdata\\roaming\\python\\python311\\site-packages (from evidently==0.6.4) (14.0.0)\n",
      "Requirement already satisfied: iterative-telemetry>=0.0.5 in c:\\users\\user\\appdata\\roaming\\python\\python311\\site-packages (from evidently==0.6.4) (0.0.10)\n",
      "Requirement already satisfied: dynaconf>=3.2.4 in c:\\users\\user\\appdata\\roaming\\python\\python311\\site-packages (from evidently==0.6.4) (3.2.11)\n",
      "Requirement already satisfied: certifi>=2024.7.4 in c:\\users\\user\\appdata\\roaming\\python\\python311\\site-packages (from evidently==0.6.4) (2025.4.26)\n",
      "Requirement already satisfied: urllib3>=1.26.19 in c:\\users\\user\\appdata\\roaming\\python\\python311\\site-packages (from evidently==0.6.4) (2.4.0)\n",
      "Requirement already satisfied: fsspec>=2024.6.1 in c:\\users\\user\\appdata\\roaming\\python\\python311\\site-packages (from evidently==0.6.4) (2025.3.2)\n",
      "Requirement already satisfied: ujson>=5.4.0 in d:\\programdata\\anaconda3\\lib\\site-packages (from evidently==0.6.4) (5.4.0)\n",
      "Requirement already satisfied: deprecation>=2.1.0 in c:\\users\\user\\appdata\\roaming\\python\\python311\\site-packages (from evidently==0.6.4) (2.1.0)\n",
      "Requirement already satisfied: uuid6>=2024.7.10 in c:\\users\\user\\appdata\\roaming\\python\\python311\\site-packages (from evidently==0.6.4) (2024.7.10)\n",
      "Requirement already satisfied: cryptography>=43.0.1 in c:\\users\\user\\appdata\\roaming\\python\\python311\\site-packages (from evidently==0.6.4) (44.0.3)\n",
      "Requirement already satisfied: cffi>=1.12 in d:\\programdata\\anaconda3\\lib\\site-packages (from cryptography>=43.0.1->evidently==0.6.4) (1.15.1)\n",
      "Requirement already satisfied: packaging in d:\\programdata\\anaconda3\\lib\\site-packages (from deprecation>=2.1.0->evidently==0.6.4) (23.1)\n",
      "Requirement already satisfied: appdirs in d:\\programdata\\anaconda3\\lib\\site-packages (from iterative-telemetry>=0.0.5->evidently==0.6.4) (1.4.4)\n",
      "Requirement already satisfied: filelock in d:\\programdata\\anaconda3\\lib\\site-packages (from iterative-telemetry>=0.0.5->evidently==0.6.4) (3.9.0)\n",
      "Requirement already satisfied: distro in c:\\users\\user\\appdata\\roaming\\python\\python311\\site-packages (from iterative-telemetry>=0.0.5->evidently==0.6.4) (1.9.0)\n",
      "Requirement already satisfied: anyio>=3 in c:\\users\\user\\appdata\\roaming\\python\\python311\\site-packages (from litestar>=2.8.3->evidently==0.6.4) (4.9.0)\n",
      "Requirement already satisfied: click in d:\\programdata\\anaconda3\\lib\\site-packages (from litestar>=2.8.3->evidently==0.6.4) (8.0.4)\n",
      "Requirement already satisfied: httpx>=0.22 in c:\\users\\user\\appdata\\roaming\\python\\python311\\site-packages (from litestar>=2.8.3->evidently==0.6.4) (0.28.1)\n",
      "Requirement already satisfied: litestar-htmx>=0.4.0 in c:\\users\\user\\appdata\\roaming\\python\\python311\\site-packages (from litestar>=2.8.3->evidently==0.6.4) (0.4.1)\n",
      "Requirement already satisfied: msgspec>=0.18.2 in c:\\users\\user\\appdata\\roaming\\python\\python311\\site-packages (from litestar>=2.8.3->evidently==0.6.4) (0.19.0)\n",
      "Requirement already satisfied: multidict>=6.0.2 in c:\\users\\user\\appdata\\roaming\\python\\python311\\site-packages (from litestar>=2.8.3->evidently==0.6.4) (6.1.0)\n",
      "Requirement already satisfied: multipart>=1.2.0 in c:\\users\\user\\appdata\\roaming\\python\\python311\\site-packages (from litestar>=2.8.3->evidently==0.6.4) (1.2.1)\n",
      "Requirement already satisfied: polyfactory>=2.6.3 in c:\\users\\user\\appdata\\roaming\\python\\python311\\site-packages (from litestar>=2.8.3->evidently==0.6.4) (2.21.0)\n",
      "Requirement already satisfied: rich-click in c:\\users\\user\\appdata\\roaming\\python\\python311\\site-packages (from litestar>=2.8.3->evidently==0.6.4) (1.8.8)\n",
      "Requirement already satisfied: typing-extensions in c:\\users\\user\\appdata\\roaming\\python\\python311\\site-packages (from litestar>=2.8.3->evidently==0.6.4) (4.12.2)\n",
      "Requirement already satisfied: joblib in d:\\programdata\\anaconda3\\lib\\site-packages (from nltk>=3.6.7->evidently==0.6.4) (1.2.0)\n",
      "Requirement already satisfied: regex>=2021.8.3 in d:\\programdata\\anaconda3\\lib\\site-packages (from nltk>=3.6.7->evidently==0.6.4) (2022.7.9)\n",
      "Requirement already satisfied: tqdm in d:\\programdata\\anaconda3\\lib\\site-packages (from nltk>=3.6.7->evidently==0.6.4) (4.65.0)\n",
      "Requirement already satisfied: python-dateutil>=2.8.2 in d:\\programdata\\anaconda3\\lib\\site-packages (from pandas>=1.3.5->pandas[parquet]>=1.3.5->evidently==0.6.4) (2.8.2)\n",
      "Requirement already satisfied: pytz>=2020.1 in d:\\programdata\\anaconda3\\lib\\site-packages (from pandas>=1.3.5->pandas[parquet]>=1.3.5->evidently==0.6.4) (2023.3.post1)\n",
      "Requirement already satisfied: tzdata>=2022.7 in d:\\programdata\\anaconda3\\lib\\site-packages (from pandas>=1.3.5->pandas[parquet]>=1.3.5->evidently==0.6.4) (2023.3)\n",
      "Requirement already satisfied: pyarrow>=10.0.1 in c:\\users\\user\\appdata\\roaming\\python\\python311\\site-packages (from pandas[parquet]>=1.3.5->evidently==0.6.4) (10.0.1)\n",
      "Requirement already satisfied: tenacity>=6.2.0 in d:\\programdata\\anaconda3\\lib\\site-packages (from plotly<6,>=5.10.0->evidently==0.6.4) (8.2.2)\n",
      "Requirement already satisfied: charset-normalizer<4,>=2 in d:\\programdata\\anaconda3\\lib\\site-packages (from requests>=2.32.0->evidently==0.6.4) (2.0.4)\n",
      "Requirement already satisfied: idna<4,>=2.5 in d:\\programdata\\anaconda3\\lib\\site-packages (from requests>=2.32.0->evidently==0.6.4) (3.4)\n",
      "Requirement already satisfied: markdown-it-py>=2.2.0 in d:\\programdata\\anaconda3\\lib\\site-packages (from rich>=13->evidently==0.6.4) (2.2.0)\n",
      "Requirement already satisfied: pygments<3.0.0,>=2.13.0 in d:\\programdata\\anaconda3\\lib\\site-packages (from rich>=13->evidently==0.6.4) (2.15.1)\n",
      "Requirement already satisfied: threadpoolctl>=2.0.0 in d:\\programdata\\anaconda3\\lib\\site-packages (from scikit-learn>=1.0.1->evidently==0.6.4) (2.2.0)\n",
      "Requirement already satisfied: patsy>=0.5.2 in d:\\programdata\\anaconda3\\lib\\site-packages (from statsmodels>=0.12.2->evidently==0.6.4) (0.5.3)\n",
      "Requirement already satisfied: shellingham>=1.3.0 in c:\\users\\user\\appdata\\roaming\\python\\python311\\site-packages (from typer>=0.3->evidently==0.6.4) (1.5.4)\n",
      "Requirement already satisfied: mypy-extensions>=0.3.0 in c:\\users\\user\\appdata\\roaming\\python\\python311\\site-packages (from typing-inspect>=0.9.0->evidently==0.6.4) (1.0.0)\n",
      "Requirement already satisfied: h11>=0.8 in c:\\users\\user\\appdata\\roaming\\python\\python311\\site-packages (from uvicorn>=0.22.0->uvicorn[standard]>=0.22.0->evidently==0.6.4) (0.14.0)\n",
      "Requirement already satisfied: colorama>=0.4 in d:\\programdata\\anaconda3\\lib\\site-packages (from uvicorn[standard]>=0.22.0->evidently==0.6.4) (0.4.6)\n",
      "Requirement already satisfied: httptools>=0.6.3 in c:\\users\\user\\appdata\\roaming\\python\\python311\\site-packages (from uvicorn[standard]>=0.22.0->evidently==0.6.4) (0.6.4)\n",
      "Requirement already satisfied: python-dotenv>=0.13 in c:\\users\\user\\appdata\\roaming\\python\\python311\\site-packages (from uvicorn[standard]>=0.22.0->evidently==0.6.4) (1.0.1)\n",
      "Requirement already satisfied: watchfiles>=0.13 in c:\\users\\user\\appdata\\roaming\\python\\python311\\site-packages (from uvicorn[standard]>=0.22.0->evidently==0.6.4) (1.0.5)\n",
      "Requirement already satisfied: websockets>=10.4 in c:\\users\\user\\appdata\\roaming\\python\\python311\\site-packages (from uvicorn[standard]>=0.22.0->evidently==0.6.4) (15.0.1)\n",
      "Requirement already satisfied: sniffio>=1.1 in c:\\users\\user\\appdata\\roaming\\python\\python311\\site-packages (from anyio>=3->litestar>=2.8.3->evidently==0.6.4) (1.3.1)\n",
      "Requirement already satisfied: pycparser in d:\\programdata\\anaconda3\\lib\\site-packages (from cffi>=1.12->cryptography>=43.0.1->evidently==0.6.4) (2.21)\n",
      "Requirement already satisfied: httpcore==1.* in c:\\users\\user\\appdata\\roaming\\python\\python311\\site-packages (from httpx>=0.22->litestar>=2.8.3->evidently==0.6.4) (1.0.5)\n",
      "Requirement already satisfied: mdurl~=0.1 in d:\\programdata\\anaconda3\\lib\\site-packages (from markdown-it-py>=2.2.0->rich>=13->evidently==0.6.4) (0.1.0)\n",
      "Requirement already satisfied: six in d:\\programdata\\anaconda3\\lib\\site-packages (from patsy>=0.5.2->statsmodels>=0.12.2->evidently==0.6.4) (1.16.0)\n",
      "Requirement already satisfied: faker>=5.0.0 in c:\\users\\user\\appdata\\roaming\\python\\python311\\site-packages (from polyfactory>=2.6.3->litestar>=2.8.3->evidently==0.6.4) (37.1.0)\n"
     ]
    },
    {
     "name": "stderr",
     "output_type": "stream",
     "text": [
      "WARNING: Ignoring invalid distribution ~oogle-api-core (C:\\Users\\user\\AppData\\Roaming\\Python\\Python311\\site-packages)\n",
      "WARNING: Ignoring invalid distribution ~oogle-api-core (C:\\Users\\user\\AppData\\Roaming\\Python\\Python311\\site-packages)\n",
      "WARNING: Ignoring invalid distribution ~oogle-api-core (C:\\Users\\user\\AppData\\Roaming\\Python\\Python311\\site-packages)\n",
      "WARNING: Ignoring invalid distribution ~oogle-api-core (C:\\Users\\user\\AppData\\Roaming\\Python\\Python311\\site-packages)\n",
      "\n",
      "[notice] A new release of pip is available: 25.0 -> 25.1.1\n",
      "[notice] To update, run: python.exe -m pip install --upgrade pip\n"
     ]
    }
   ],
   "source": [
    "!pip install evidently==0.6.4\n",
    "\n"
   ]
  },
  {
   "cell_type": "code",
   "execution_count": 80,
   "id": "e4a6dcc1",
   "metadata": {},
   "outputs": [],
   "source": [
    "import pandas as pd\n",
    "import numpy as np\n",
    "import requests\n",
    "import zipfile\n",
    "import io\n",
    "\n",
    "from datetime import datetime, time\n",
    "from sklearn import datasets, ensemble\n",
    "\n",
    "from evidently import ColumnMapping\n",
    "from evidently.report import Report\n",
    "from evidently.metric_preset import DataDriftPreset, TargetDriftPreset, RegressionPreset"
   ]
  },
  {
   "cell_type": "code",
   "execution_count": null,
   "id": "7beee0fc",
   "metadata": {},
   "outputs": [],
   "source": []
  },
  {
   "cell_type": "code",
   "execution_count": 100,
   "id": "cb09a010",
   "metadata": {},
   "outputs": [],
   "source": [
    "\n",
    "from IPython.display import display\n",
    "\n",
    "import json\n",
    "\n",
    "\n",
    "import os\n",
    "\n",
    "class EvidentlyMonitor:\n",
    "    def __init__(self, report_dir=\"reports\"):\n",
    "        \n",
    "        self.report_dir = report_dir\n",
    "        os.makedirs(self.report_dir, exist_ok=True)\n",
    "\n",
    "    def generate_report(self, baseline_df: pd.DataFrame, current_df: pd.DataFrame, title: str):\n",
    "       \n",
    "        \n",
    "        report = Report([DataDriftPreset(drift_share=0.7)])\n",
    "        report.run(reference_data=baseline_df, current_data=current_df)\n",
    "\n",
    "        report_file = os.path.join(self.report_dir, f\"{title.lower().replace(' ', '_')}.html\")\n",
    "        report.save_html(report_file)\n",
    "        snapshot_dict = report.as_dict()  \n",
    "        print(snapshot_dict)\n",
    "        json_file = os.path.join(self.report_dir, f\"{title.lower().replace(' ', '_')}_report.json\")\n",
    "        with open(json_file, 'w') as f:\n",
    "            json.dump(snapshot_dict, f, indent=4)\n",
    "        report.show()\n",
    "        \n",
    "        \n",
    "        \n",
    "#     def generate_report(self, baseline_df: pd.DataFrame, current_df: pd.DataFrame, title: str):\n",
    "#         report = Report(metrics=[DataDriftPreset()])\n",
    "#         my_eval=report.run(reference_data=baseline_df, current_data=current_df)\n",
    "\n",
    "#         report_file = os.path.join(self.report_dir, f\"{title.lower().replace(' ', '_')}.html\")\n",
    "#         snapshot_dict = my_eval.json()\n",
    "#         print(snapshot_dict)\n",
    "#         report.show()\n",
    "        \n",
    "\n",
    "       \n",
    "\n",
    "\n"
   ]
  },
  {
   "cell_type": "code",
   "execution_count": 101,
   "id": "6b1b8c7e",
   "metadata": {},
   "outputs": [],
   "source": [
    "monitor = EvidentlyMonitor()"
   ]
  },
  {
   "cell_type": "code",
   "execution_count": 83,
   "id": "531f942d",
   "metadata": {},
   "outputs": [
    {
     "data": {
      "text/plain": [
       "Index(['Patient_ID', 'Date', 'Time', 'Blood Glucose Level (mg/dL)',\n",
       "       'Blood Oxygen (SpO₂)', 'Electrocardiogram (ECG/EKG)',\n",
       "       'Hydration Levels', 'patient_id_x', 'timestamp_x', 'Blood Pressure',\n",
       "       'Heart Rate (HR)', 'Respiratory Rate (RR)', 'Body Temperature',\n",
       "       'patient_id_y', 'timestamp_y', 'Hemoglobin', 'Glucose', 'Cholesterol',\n",
       "       'Heart Rate', 'Platelet Count', 'WBC Count', 'RBC Count', 'Creatinine',\n",
       "       'Urea', 'Sodium', 'Potassium', 'Calcium'],\n",
       "      dtype='object')"
      ]
     },
     "execution_count": 83,
     "metadata": {},
     "output_type": "execute_result"
    }
   ],
   "source": [
    "current_data.columns"
   ]
  },
  {
   "cell_type": "code",
   "execution_count": 84,
   "id": "e937ffaa",
   "metadata": {},
   "outputs": [
    {
     "data": {
      "text/html": [
       "<div>\n",
       "<style scoped>\n",
       "    .dataframe tbody tr th:only-of-type {\n",
       "        vertical-align: middle;\n",
       "    }\n",
       "\n",
       "    .dataframe tbody tr th {\n",
       "        vertical-align: top;\n",
       "    }\n",
       "\n",
       "    .dataframe thead th {\n",
       "        text-align: right;\n",
       "    }\n",
       "</style>\n",
       "<table border=\"1\" class=\"dataframe\">\n",
       "  <thead>\n",
       "    <tr style=\"text-align: right;\">\n",
       "      <th></th>\n",
       "      <th>Patient_ID</th>\n",
       "      <th>Date</th>\n",
       "      <th>Time</th>\n",
       "      <th>Blood Glucose Level (mg/dL)</th>\n",
       "      <th>Blood Oxygen (SpO₂)</th>\n",
       "      <th>Electrocardiogram (ECG/EKG)</th>\n",
       "      <th>Hydration Levels</th>\n",
       "      <th>patient_id_x</th>\n",
       "      <th>timestamp_x</th>\n",
       "      <th>Blood Pressure</th>\n",
       "      <th>...</th>\n",
       "      <th>Cholesterol</th>\n",
       "      <th>Heart Rate</th>\n",
       "      <th>Platelet Count</th>\n",
       "      <th>WBC Count</th>\n",
       "      <th>RBC Count</th>\n",
       "      <th>Creatinine</th>\n",
       "      <th>Urea</th>\n",
       "      <th>Sodium</th>\n",
       "      <th>Potassium</th>\n",
       "      <th>Calcium</th>\n",
       "    </tr>\n",
       "  </thead>\n",
       "  <tbody>\n",
       "    <tr>\n",
       "      <th>0</th>\n",
       "      <td>P12332</td>\n",
       "      <td>2025-03-01</td>\n",
       "      <td>0.57.33</td>\n",
       "      <td>145.197576</td>\n",
       "      <td>96.81888</td>\n",
       "      <td>0.883574</td>\n",
       "      <td>64.832462</td>\n",
       "      <td>P12332</td>\n",
       "      <td>1746262840226</td>\n",
       "      <td>129/83</td>\n",
       "      <td>...</td>\n",
       "      <td>247.433986</td>\n",
       "      <td>64</td>\n",
       "      <td>295839</td>\n",
       "      <td>4054.199744</td>\n",
       "      <td>6.01111</td>\n",
       "      <td>1.390159</td>\n",
       "      <td>41.857931</td>\n",
       "      <td>144.61325</td>\n",
       "      <td>4.829715</td>\n",
       "      <td>8.623545</td>\n",
       "    </tr>\n",
       "  </tbody>\n",
       "</table>\n",
       "<p>1 rows × 27 columns</p>\n",
       "</div>"
      ],
      "text/plain": [
       "  Patient_ID        Date     Time  Blood Glucose Level (mg/dL)  \\\n",
       "0     P12332  2025-03-01  0.57.33                   145.197576   \n",
       "\n",
       "   Blood Oxygen (SpO₂)  Electrocardiogram (ECG/EKG)  Hydration Levels  \\\n",
       "0             96.81888                     0.883574         64.832462   \n",
       "\n",
       "  patient_id_x    timestamp_x Blood Pressure  ...  Cholesterol  Heart Rate  \\\n",
       "0       P12332  1746262840226         129/83  ...   247.433986          64   \n",
       "\n",
       "   Platelet Count    WBC Count  RBC Count  Creatinine       Urea     Sodium  \\\n",
       "0          295839  4054.199744    6.01111    1.390159  41.857931  144.61325   \n",
       "\n",
       "   Potassium   Calcium  \n",
       "0   4.829715  8.623545  \n",
       "\n",
       "[1 rows x 27 columns]"
      ]
     },
     "execution_count": 84,
     "metadata": {},
     "output_type": "execute_result"
    }
   ],
   "source": [
    "current_data[:1]"
   ]
  },
  {
   "cell_type": "code",
   "execution_count": 85,
   "id": "12cbf0b3",
   "metadata": {},
   "outputs": [
    {
     "data": {
      "text/plain": [
       "0       02-03-2025\n",
       "1       02-03-2025\n",
       "2       02-03-2025\n",
       "3       02-03-2025\n",
       "4       02-03-2025\n",
       "           ...    \n",
       "2587    28-02-2025\n",
       "2588    28-02-2025\n",
       "2589    28-02-2025\n",
       "2590    28-02-2025\n",
       "2591    28-02-2025\n",
       "Name: Date, Length: 2592, dtype: object"
      ]
     },
     "execution_count": 85,
     "metadata": {},
     "output_type": "execute_result"
    }
   ],
   "source": [
    "reference_data['Date']"
   ]
  },
  {
   "cell_type": "code",
   "execution_count": 86,
   "id": "f044c9e5",
   "metadata": {},
   "outputs": [
    {
     "data": {
      "text/plain": [
       "Index(['Patient_ID', 'Date', 'Time', 'Blood Glucose Level (mg/dL)',\n",
       "       'Blood Oxygen (SpO₂)', 'Electrocardiogram (ECG/EKG)',\n",
       "       'Hydration Levels', 'Blood Pressure', 'Heart Rate (HR)',\n",
       "       'Respiratory Rate (RR)', 'Body Temperature', 'Hemoglobin', 'Glucose',\n",
       "       'Cholesterol', 'Heart Rate', 'Platelet Count', 'WBC Count', 'RBC Count',\n",
       "       'Creatinine', 'Urea', 'Sodium', 'Potassium', 'Calcium'],\n",
       "      dtype='object')"
      ]
     },
     "execution_count": 86,
     "metadata": {},
     "output_type": "execute_result"
    }
   ],
   "source": [
    "reference_data.columns\n",
    "\n"
   ]
  },
  {
   "cell_type": "code",
   "execution_count": 87,
   "id": "0d10b86d",
   "metadata": {},
   "outputs": [
    {
     "data": {
      "text/plain": [
       "Index(['Patient_ID', 'Date', 'Time', 'Blood Glucose Level (mg/dL)',\n",
       "       'Blood Oxygen (SpO₂)', 'Electrocardiogram (ECG/EKG)',\n",
       "       'Hydration Levels', 'patient_id_x', 'timestamp_x', 'Blood Pressure',\n",
       "       'Heart Rate (HR)', 'Respiratory Rate (RR)', 'Body Temperature',\n",
       "       'patient_id_y', 'timestamp_y', 'Hemoglobin', 'Glucose', 'Cholesterol',\n",
       "       'Heart Rate', 'Platelet Count', 'WBC Count', 'RBC Count', 'Creatinine',\n",
       "       'Urea', 'Sodium', 'Potassium', 'Calcium'],\n",
       "      dtype='object')"
      ]
     },
     "execution_count": 87,
     "metadata": {},
     "output_type": "execute_result"
    }
   ],
   "source": [
    "current_data.columns"
   ]
  },
  {
   "cell_type": "code",
   "execution_count": null,
   "id": "fa40b2cc",
   "metadata": {},
   "outputs": [],
   "source": []
  },
  {
   "cell_type": "code",
   "execution_count": 88,
   "id": "7bc7527e",
   "metadata": {},
   "outputs": [
    {
     "data": {
      "text/plain": [
       "Patient_ID                      object\n",
       "Date                            object\n",
       "Time                            object\n",
       "Blood Glucose Level (mg/dL)    float64\n",
       "Blood Oxygen (SpO₂)            float64\n",
       "Electrocardiogram (ECG/EKG)    float64\n",
       "Hydration Levels               float64\n",
       "patient_id_x                    object\n",
       "timestamp_x                      int64\n",
       "Blood Pressure                  object\n",
       "Heart Rate (HR)                  int64\n",
       "Respiratory Rate (RR)            int64\n",
       "Body Temperature               float64\n",
       "patient_id_y                    object\n",
       "timestamp_y                      int64\n",
       "Hemoglobin                     float64\n",
       "Glucose                        float64\n",
       "Cholesterol                    float64\n",
       "Heart Rate                       int64\n",
       "Platelet Count                   int64\n",
       "WBC Count                      float64\n",
       "RBC Count                      float64\n",
       "Creatinine                     float64\n",
       "Urea                           float64\n",
       "Sodium                         float64\n",
       "Potassium                      float64\n",
       "Calcium                        float64\n",
       "dtype: object"
      ]
     },
     "execution_count": 88,
     "metadata": {},
     "output_type": "execute_result"
    }
   ],
   "source": [
    "current_data.dtypes"
   ]
  },
  {
   "cell_type": "code",
   "execution_count": 89,
   "id": "799a2959",
   "metadata": {},
   "outputs": [],
   "source": [
    "current_data[['Systolic', 'Diastolic']] = current_data['Blood Pressure'].str.split('/', expand=True).astype(float)\n",
    "current_data.drop('Blood Pressure', axis=1, inplace=True)\n",
    "reference_data[['Systolic', 'Diastolic']] = reference_data['Blood Pressure'].str.split('/', expand=True).astype(float)\n",
    "reference_data.drop('Blood Pressure', axis=1, inplace=True)\n",
    "\n"
   ]
  },
  {
   "cell_type": "code",
   "execution_count": 90,
   "id": "dc1f3ec6",
   "metadata": {},
   "outputs": [],
   "source": [
    "reference_data=reference_data.drop(['Date','Time','Patient_ID'],axis=1)\n",
    "current_data=current_data.drop(['Date','Time','Patient_ID','timestamp_y','timestamp_x','patient_id_y','patient_id_x'],axis=1)"
   ]
  },
  {
   "cell_type": "code",
   "execution_count": 91,
   "id": "1b710aed",
   "metadata": {},
   "outputs": [
    {
     "data": {
      "text/plain": [
       "(250, 21)"
      ]
     },
     "execution_count": 91,
     "metadata": {},
     "output_type": "execute_result"
    }
   ],
   "source": [
    "current_data.shape"
   ]
  },
  {
   "cell_type": "code",
   "execution_count": 92,
   "id": "f1bc054e",
   "metadata": {},
   "outputs": [
    {
     "data": {
      "text/plain": [
       "(2592, 21)"
      ]
     },
     "execution_count": 92,
     "metadata": {},
     "output_type": "execute_result"
    }
   ],
   "source": [
    "reference_data.shape"
   ]
  },
  {
   "cell_type": "code",
   "execution_count": 93,
   "id": "4aeffcc8",
   "metadata": {},
   "outputs": [],
   "source": [
    "numerical_features=reference_data.columns"
   ]
  },
  {
   "cell_type": "code",
   "execution_count": 94,
   "id": "0707eecc",
   "metadata": {},
   "outputs": [],
   "source": [
    "columnmapping=ColumnMapping()\n",
    "columnmapping.numerical_features=numerical_features"
   ]
  },
  {
   "cell_type": "code",
   "execution_count": 102,
   "id": "033b9748",
   "metadata": {},
   "outputs": [
    {
     "name": "stdout",
     "output_type": "stream",
     "text": [
      "{'metrics': [{'metric': 'DatasetDriftMetric', 'result': {'drift_share': 0.7, 'number_of_columns': 21, 'number_of_drifted_columns': 13, 'share_of_drifted_columns': 0.6190476190476191, 'dataset_drift': False}}, {'metric': 'DataDriftTable', 'result': {'number_of_columns': 21, 'number_of_drifted_columns': 13, 'share_of_drifted_columns': 0.6190476190476191, 'dataset_drift': True, 'drift_by_columns': {'Blood Glucose Level (mg/dL)': {'column_name': 'Blood Glucose Level (mg/dL)', 'column_type': 'num', 'stattest_name': 'Wasserstein distance (normed)', 'stattest_threshold': 0.1, 'drift_score': 0.08539324570102852, 'drift_detected': False, 'current': {'small_distribution': {'x': [60.5, 74.43715407, 88.37430814, 102.31146221, 116.24861628, 130.18577034999998, 144.12292442, 158.06007849, 171.99723256, 185.93438663, 199.8715407], 'y': [0.0034440316695157247, 0.004879044865147282, 0.006314058060778829, 0.0080360738955367, 0.008610079173789321, 0.0068880633390314425, 0.009758089730294564, 0.007749071256410388, 0.004018036947768341, 0.01205411084330505]}}, 'reference': {'small_distribution': {'x': [60.1, 74.09, 88.08, 102.07, 116.06, 130.05, 144.04, 158.03, 172.02, 186.01, 200.0], 'y': [0.002840432760613842, 0.006949408307521249, 0.008300682145094824, 0.006866677256241226, 0.007997334957068095, 0.00769398776904139, 0.007335486546827976, 0.007445794615201329, 0.007969757939974773, 0.008080066008348109]}}}, 'Blood Oxygen (SpO₂)': {'column_name': 'Blood Oxygen (SpO₂)', 'column_type': 'num', 'stattest_name': 'Wasserstein distance (normed)', 'stattest_threshold': 0.1, 'drift_score': 0.13883021203010368, 'drift_detected': True, 'current': {'small_distribution': {'x': [94.01025087, 94.609225783, 95.20820069599999, 95.807175609, 96.40615052199999, 97.005125435, 97.604100348, 98.203075261, 98.802050174, 99.401025087, 100.0], 'y': [0.14691767232661893, 0.11352729225239003, 0.14023959631177257, 0.18030805240085473, 0.14023959631177257, 0.2003422804453894, 0.24708881254931947, 0.2003422804453894, 0.15359574834146886, 0.14691767232661893]}}, 'reference': {'small_distribution': {'x': [94.0, 94.6, 95.2, 95.8, 96.4, 97.0, 97.6, 98.2, 98.8, 99.4, 100.0], 'y': [0.12217078189300526, 0.13310185185184997, 0.18775720164609233, 0.18068415637859825, 0.19933127572016648, 0.20318930041152455, 0.19483024691357748, 0.1710390946502074, 0.15303497942386615, 0.12152777777777894]}}}, 'Body Temperature': {'column_name': 'Body Temperature', 'column_type': 'num', 'stattest_name': 'Wasserstein distance (normed)', 'stattest_threshold': 0.1, 'drift_score': 0.06720153584609509, 'drift_detected': False, 'current': {'small_distribution': {'x': [36.0, 36.2, 36.4, 36.6, 36.8, 37.0, 37.2, 37.4, 37.6, 37.8, 38.0], 'y': [0.07999999999999886, 0.48000000000001025, 0.45999999999999347, 0.7800000000000166, 0.6999999999999901, 0.5799999999999919, 0.6400000000000137, 0.5999999999999914, 0.28000000000000597, 0.3999999999999943]}}, 'reference': {'small_distribution': {'x': [36.0, 36.2, 36.4, 36.6, 36.8, 37.0, 37.2, 37.4, 37.6, 37.8, 38.0], 'y': [0.30671296296295864, 0.36651234567902014, 0.51311728395061, 0.580632716049395, 0.6655092592592498, 0.6500771604938179, 0.6037808641975437, 0.5150462962962891, 0.38001543209877353, 0.41859567901233974]}}}, 'Calcium': {'column_name': 'Calcium', 'column_type': 'num', 'stattest_name': 'Wasserstein distance (normed)', 'stattest_threshold': 0.1, 'drift_score': 0.8247822123413077, 'drift_detected': True, 'current': {'small_distribution': {'x': [8.62354472, 8.790190248, 8.956835776, 9.123481304, 9.290126832, 9.456772359999999, 9.623417887999999, 9.790063415999999, 9.956708943999999, 10.123354471999999, 10.29], 'y': [1.9922526813920851, 0.0, 0.0, 0.0, 0.0, 0.0, 0.0, 0.0, 1.9922526813920851, 2.016255725746207]}}, 'reference': {'small_distribution': {'x': [8.62354472, 8.799190248, 8.974835776, 9.150481304, 9.326126832, 9.50177236, 9.677417888, 9.853063416000001, 10.028708944, 10.204354472, 10.38], 'y': [0.31629359533455026, 0.0, 0.3162935953345535, 0.1976834970840939, 0.0, 1.265174381338201, 0.31629359533455026, 1.4628578784223096, 1.1861009825045636, 0.6325871906691005]}}}, 'Cholesterol': {'column_name': 'Cholesterol', 'column_type': 'num', 'stattest_name': 'Wasserstein distance (normed)', 'stattest_threshold': 0.1, 'drift_score': 0.7144974902812735, 'drift_detected': True, 'current': {'small_distribution': {'x': [152.1, 161.63339856, 171.16679711999998, 180.70019567999998, 190.23359424, 199.7669928, 209.30039136, 218.83378992000002, 228.36718847999998, 237.90058704, 247.4339856], 'y': [0.03524451410326856, 0.0, 0.0, 0.0, 0.0, 0.0, 0.0, 0.0, 0.0, 0.06964987310884026]}}, 'reference': {'small_distribution': {'x': [152.1, 161.63339856, 171.16679711999998, 180.70019567999998, 190.23359424, 199.7669928, 209.30039136, 218.83378992000002, 228.36718847999998, 237.90058704, 247.4339856], 'y': [0.005827465956228267, 0.003642166222642667, 0.02330986382491307, 0.00582746595622825, 0.02112456409132747, 0.0, 0.003642166222642656, 0.0058274659562282845, 0.012383365156985031, 0.02330986382491307]}}}, 'Creatinine': {'column_name': 'Creatinine', 'column_type': 'num', 'stattest_name': 'Wasserstein distance (normed)', 'stattest_threshold': 0.1, 'drift_score': 0.9728295838457032, 'drift_detected': True, 'current': {'small_distribution': {'x': [0.69, 0.7600159289999999, 0.8300318579999999, 0.900047787, 0.970063716, 1.040079645, 1.110095574, 1.180111503, 1.250127432, 1.320143361, 1.39015929], 'y': [4.798907974212555, 0.0, 0.0, 0.0, 0.0, 0.0, 0.0, 0.0, 0.0, 9.483556234753383]}}, 'reference': {'small_distribution': {'x': [0.672996236, 0.7447125414, 0.8164288468, 0.8881451522, 0.9598614576, 1.031577763, 1.1032940683999999, 1.1750103738, 1.2467266792, 1.3184429845999999, 1.39015929], 'y': [4.066950535723872, 0.0, 3.873286224498926, 0.7746572448997852, 1.6461466454120408, 0.0, 0.774657244899784, 0.774657244899784, 0.0, 2.033475267861933]}}}, 'Diastolic': {'column_name': 'Diastolic', 'column_type': 'num', 'stattest_name': 'Wasserstein distance (normed)', 'stattest_threshold': 0.1, 'drift_score': 0.05138963936155786, 'drift_detected': False, 'current': {'small_distribution': {'x': [60.0, 63.0, 66.0, 69.0, 72.0, 75.0, 78.0, 81.0, 84.0, 87.0, 90.0], 'y': [0.032, 0.044, 0.024, 0.024, 0.034666666666666665, 0.032, 0.037333333333333336, 0.028, 0.03866666666666666, 0.03866666666666666]}}, 'reference': {'small_distribution': {'x': [60.0, 63.0, 66.0, 69.0, 72.0, 75.0, 78.0, 81.0, 84.0, 87.0, 90.0], 'y': [0.03433641975308642, 0.03137860082304526, 0.034722222222222224, 0.032664609053497946, 0.03227880658436214, 0.03202160493827161, 0.030606995884773662, 0.03369341563786008, 0.034722222222222224, 0.03690843621399177]}}}, 'Electrocardiogram (ECG/EKG)': {'column_name': 'Electrocardiogram (ECG/EKG)', 'column_type': 'num', 'stattest_name': 'Wasserstein distance (normed)', 'stattest_threshold': 0.1, 'drift_score': 0.06707912956852209, 'drift_detected': False, 'current': {'small_distribution': {'x': [0.80117818, 0.841060362, 0.8809425439999999, 0.920824726, 0.9607069079999999, 1.00058909, 1.040471272, 1.080353454, 1.1202356359999999, 1.160117818, 1.2], 'y': [2.00590830260992, 2.2064991328709183, 2.4070899631319045, 3.3097486993063776, 2.9085670387843763, 3.3097486993063776, 2.2064991328709183, 2.4070899631319107, 2.306794548001402, 2.005908302609926]}}, 'reference': {'small_distribution': {'x': [0.8, 0.8400000000000001, 0.88, 0.92, 0.96, 1.0, 1.04, 1.08, 1.12, 1.16, 1.2], 'y': [1.6975308641975295, 2.150848765432103, 2.8163580246913558, 2.623456790123462, 2.6523919753086393, 2.6234567901234542, 2.4402006172839483, 2.739197530864195, 2.536651234567913, 2.7199074074074048]}}}, 'Glucose': {'column_name': 'Glucose', 'column_type': 'num', 'stattest_name': 'Wasserstein distance (normed)', 'stattest_threshold': 0.1, 'drift_score': 0.5604770467194122, 'drift_detected': True, 'current': {'small_distribution': {'x': [64.6, 78.47534644, 92.35069288, 106.22603932, 120.10138576, 133.97673220000001, 147.85207864, 161.72742508, 175.60277152, 189.47811796000002, 203.3534644], 'y': [0.024215611585118733, 0.0, 0.0, 0.0, 0.0, 0.023927330494819724, 0.0, 0.0, 0.0, 0.023927330494819724]}}, 'reference': {'small_distribution': {'x': [64.6, 81.41011805, 98.2202361, 115.03035415, 131.8404722, 148.65059025, 165.4607083, 182.27082635, 199.0809444, 215.89106245, 232.7011805], 'y': [0.008675330708539155, 0.0, 0.007022886764055506, 0.0033048878889672968, 0.0066097757779345935, 0.0, 0.0, 0.005370442819571858, 0.016524439444836485, 0.011980218597506451]}}}, 'Heart Rate': {'column_name': 'Heart Rate', 'column_type': 'num', 'stattest_name': 'Wasserstein distance (normed)', 'stattest_threshold': 0.1, 'drift_score': 1.2446788939964541, 'drift_detected': True, 'current': {'small_distribution': {'x': [63.0, 64.2, 65.4, 66.6, 67.8, 69.0, 70.2, 71.4, 72.6, 73.8, 75.0], 'y': [0.553333333333332, 0.0, 0.0, 0.0, 0.0, 0.0, 0.0, 0.0, 0.0, 0.2799999999999993]}}, 'reference': {'small_distribution': {'x': [63.0, 66.2, 69.4, 72.6, 75.8, 79.0, 82.2, 85.4, 88.6, 91.8, 95.0], 'y': [0.04557291666666663, 0.0, 0.0, 0.134548611111111, 0.0, 0.0, 0.06944444444444438, 0.028211805555555653, 0.017361111111111095, 0.017361111111111095]}}}, 'Heart Rate (HR)': {'column_name': 'Heart Rate (HR)', 'column_type': 'num', 'stattest_name': 'Wasserstein distance (normed)', 'stattest_threshold': 0.1, 'drift_score': 0.06513534705476531, 'drift_detected': False, 'current': {'small_distribution': {'x': [60.0, 64.0, 68.0, 72.0, 76.0, 80.0, 84.0, 88.0, 92.0, 96.0, 100.0], 'y': [0.023, 0.024, 0.024, 0.016, 0.028, 0.033, 0.022, 0.027, 0.031, 0.022]}}, 'reference': {'small_distribution': {'x': [60.0, 64.0, 68.0, 72.0, 76.0, 80.0, 84.0, 88.0, 92.0, 96.0, 100.0], 'y': [0.025752314814814815, 0.024209104938271605, 0.02334104938271605, 0.024402006172839507, 0.021604938271604937, 0.024691358024691357, 0.025559413580246913, 0.024691358024691357, 0.027488425925925927, 0.02826003086419753]}}}, 'Hemoglobin': {'column_name': 'Hemoglobin', 'column_type': 'num', 'stattest_name': 'Wasserstein distance (normed)', 'stattest_threshold': 0.1, 'drift_score': 0.3606689882678003, 'drift_detected': True, 'current': {'small_distribution': {'x': [12.95835389, 13.302518501, 13.646683112, 13.990847723, 14.335012334, 14.679176944999998, 15.023341555999998, 15.367506166999998, 15.711670777999998, 16.055835389, 16.4], 'y': [0.9646546721795285, 0.0, 0.0, 0.9646546721795285, 0.0, 0.0, 0.0, 0.0, 0.0, 0.9762770176274747]}}, 'reference': {'small_distribution': {'x': [12.56529853, 13.078768677, 13.592238823999999, 14.105708970999999, 14.619179118, 15.132649265, 15.646119412, 16.159589559, 16.673059706, 17.186529853, 17.7], 'y': [0.7979475040877548, 0.0, 0.5409813587035626, 0.06762266983794508, 0.0, 0.21639254348142503, 0.10819627174071214, 0.10819627174071252, 0.0, 0.10819627174071252]}}}, 'Hydration Levels': {'column_name': 'Hydration Levels', 'column_type': 'num', 'stattest_name': 'Wasserstein distance (normed)', 'stattest_threshold': 0.1, 'drift_score': 0.04315122554492033, 'drift_detected': False, 'current': {'small_distribution': {'x': [50.1, 52.59, 55.08, 57.57, 60.06, 62.55, 65.03999999999999, 67.53, 70.02, 72.50999999999999, 75.0], 'y': [0.032128514056224876, 0.032128514056224966, 0.04337349397590358, 0.04497991967871482, 0.03694779116465871, 0.051405622489959946, 0.043373493975903454, 0.041767068273092456, 0.043373493975903704, 0.03212851405622478]}}, 'reference': {'small_distribution': {'x': [50.0, 52.5, 55.0, 57.5, 60.0, 62.5, 65.0, 67.5, 70.0, 72.5, 75.0], 'y': [0.030555555555555558, 0.02854938271604938, 0.04891975308641975, 0.045370370370370366, 0.04429012345679012, 0.044598765432098765, 0.04351851851851852, 0.04938271604938271, 0.030555555555555558, 0.03425925925925926]}}}, 'Platelet Count': {'column_name': 'Platelet Count', 'column_type': 'num', 'stattest_name': 'Wasserstein distance (normed)', 'stattest_threshold': 0.1, 'drift_score': 0.41959191465105933, 'drift_detected': True, 'current': {'small_distribution': {'x': [195854.0, 205852.5, 215851.0, 225849.5, 235848.0, 245846.5, 255845.0, 265843.5, 275842.0, 285840.5, 295839.0], 'y': [3.3204980747112065e-05, 0.0, 0.0, 3.360504075611342e-05, 0.0, 0.0, 0.0, 0.0, 0.0, 3.3204980747112065e-05]}}, 'reference': {'small_distribution': {'x': [155629.0, 177387.2, 199145.4, 220903.6, 242661.8, 264420.0, 286178.2, 307936.4, 329694.6, 351452.80000000005, 373211.0], 'y': [1.0213263147788977e-05, 1.1809085514631019e-05, 4.149138153789272e-06, 2.5533157869472476e-06, 2.553315786947244e-06, 2.553315786947244e-06, 4.149138153789272e-06, 5.425796047262908e-06, 0.0, 2.553315786947251e-06]}}}, 'Potassium': {'column_name': 'Potassium', 'column_type': 'num', 'stattest_name': 'Wasserstein distance (normed)', 'stattest_threshold': 0.1, 'drift_score': 0.33751724261310273, 'drift_detected': True, 'current': {'small_distribution': {'x': [3.9, 4.05, 4.2, 4.35, 4.5, 4.65, 4.800000000000001, 4.95, 5.1000000000000005, 5.25, 5.4], 'y': [2.2400000000000015, 0.0, 0.0, 0.0, 0.0, 0.0, 2.2133333333333414, 0.0, 0.0, 2.213333333333328]}}, 'reference': {'small_distribution': {'x': [3.6, 3.7800000000000002, 3.96, 4.140000000000001, 4.32, 4.5, 4.68, 4.86, 5.04, 5.220000000000001, 5.4], 'y': [0.5015432098765428, 0.6172839506172849, 0.0, 0.0, 0.6558641975308652, 0.501543209876544, 0.3086419753086409, 1.118827160493829, 1.2345679012345636, 0.6172839506172849]}}}, 'RBC Count': {'column_name': 'RBC Count', 'column_type': 'num', 'stattest_name': 'Wasserstein distance (normed)', 'stattest_threshold': 0.1, 'drift_score': 1.8501091792111592, 'drift_detected': True, 'current': {'small_distribution': {'x': [5.9, 5.936, 5.972, 6.008, 6.0440000000000005, 6.08, 6.116, 6.152, 6.188, 6.224, 6.26], 'y': [9.333333333333439, 0.0, 0.0, 9.2222222222221, 0.0, 0.0, 0.0, 0.0, 0.0, 9.222222222222328]}}, 'reference': {'small_distribution': {'x': [4.13, 4.343, 4.556, 4.769, 4.982, 5.195, 5.4079999999999995, 5.6209999999999996, 5.834, 6.047, 6.26], 'y': [1.8909754825247775, 0.9454877412623888, 0.8150756390193008, 0.0, 0.0, 0.0, 0.0, 0.0, 0.7824726134585286, 0.2608242044861762]}}}, 'Respiratory Rate (RR)': {'column_name': 'Respiratory Rate (RR)', 'column_type': 'num', 'stattest_name': 'Wasserstein distance (normed)', 'stattest_threshold': 0.1, 'drift_score': 0.04582512293209205, 'drift_detected': False, 'current': {'small_distribution': {'x': [12.0, 12.8, 13.6, 14.4, 15.2, 16.0, 16.8, 17.6, 18.4, 19.2, 20.0], 'y': [0.14499999999999985, 0.12500000000000017, 0.18999999999999984, 0.1400000000000002, 0.0, 0.12499999999999989, 0.1349999999999999, 0.19500000000000067, 0.13999999999999987, 0.05499999999999995]}}, 'reference': {'small_distribution': {'x': [12.0, 12.8, 13.6, 14.4, 15.2, 16.0, 16.8, 17.6, 18.4, 19.2, 20.0], 'y': [0.1485339506172838, 0.1499807098765434, 0.1601080246913579, 0.15576774691358045, 0.0, 0.1393711419753085, 0.15769675925925913, 0.14081790123456842, 0.14949845679012333, 0.048225308641975266]}}}, 'Sodium': {'column_name': 'Sodium', 'column_type': 'num', 'stattest_name': 'Wasserstein distance (normed)', 'stattest_threshold': 0.1, 'drift_score': 1.185395596762515, 'drift_detected': True, 'current': {'small_distribution': {'x': [141.6, 141.90132499999999, 142.20265, 142.503975, 142.8053, 143.106625, 143.40795, 143.709275, 144.01059999999998, 144.311925, 144.61325], 'y': [1.1150750850411004, 0.0, 0.0, 0.0, 0.0, 0.0, 0.0, 0.0, 1.10180038164765, 1.101800381647754]}}, 'reference': {'small_distribution': {'x': [135.7, 136.59132499999998, 137.48264999999998, 138.373975, 139.2653, 140.156625, 141.04795, 141.93927499999998, 142.8306, 143.721925, 144.61325], 'y': [0.23373442160080166, 0.0, 0.18698753728063536, 0.2259432742141083, 0.0, 0.0, 0.062329179093547106, 0.24931671637418049, 0.0, 0.1636140951205612]}}}, 'Systolic': {'column_name': 'Systolic', 'column_type': 'num', 'stattest_name': 'Wasserstein distance (normed)', 'stattest_threshold': 0.1, 'drift_score': 0.053562746802233975, 'drift_detected': False, 'current': {'small_distribution': {'x': [90.0, 94.9, 99.8, 104.7, 109.6, 114.5, 119.4, 124.30000000000001, 129.2, 134.1, 139.0], 'y': [0.015510204081632634, 0.00897959183673471, 0.017959183673469367, 0.01959183673469391, 0.022040816326530585, 0.028571428571428536, 0.026122448979591806, 0.020408163265306218, 0.022040816326530585, 0.02285714285714283]}}, 'reference': {'small_distribution': {'x': [90.0, 95.0, 100.0, 105.0, 110.0, 115.0, 120.0, 125.0, 130.0, 135.0, 140.0], 'y': [0.013503086419753086, 0.01273148148148148, 0.02013888888888889, 0.0216820987654321, 0.02044753086419753, 0.020910493827160495, 0.021604938271604937, 0.023996913580246915, 0.021219135802469136, 0.023765432098765433]}}}, 'Urea': {'column_name': 'Urea', 'column_type': 'num', 'stattest_name': 'Wasserstein distance (normed)', 'stattest_threshold': 0.1, 'drift_score': 1.1844682022392496, 'drift_detected': True, 'current': {'small_distribution': {'x': [29.8, 31.005793052, 32.211586104, 33.417379155999996, 34.623172208, 35.82896526, 37.034758311999994, 38.240551364, 39.446344415999995, 40.65213746799999, 41.85793052], 'y': [0.2786547819650232, 0.0, 0.0, 0.0, 0.275337463132107, 0.0, 0.0, 0.0, 0.0, 0.2753374631321054]}}, 'reference': {'small_distribution': {'x': [10.9, 14.48, 18.060000000000002, 21.64, 25.220000000000002, 28.800000000000004, 32.38, 35.96, 39.540000000000006, 43.120000000000005, 46.7], 'y': [0.06401303538175046, 0.015518311607697075, 0.062073246430788355, 0.0562538795779019, 0.009698944754810672, 0.015518311607697089, 0.015518311607697089, 0.0, 0.015518311607697089, 0.02521725636250777]}}}, 'WBC Count': {'column_name': 'WBC Count', 'column_type': 'num', 'stattest_name': 'Wasserstein distance (normed)', 'stattest_threshold': 0.1, 'drift_score': 1.1720938776722982, 'drift_detected': True, 'current': {'small_distribution': {'x': [4054.199744, 4309.9497696, 4565.6997952, 4821.4498208, 5077.1998464, 5332.949872, 5588.6998975999995, 5844.4499232, 6100.1999488, 6355.9499744, 6611.7], 'y': [0.0012981425875564026, 0.001313782859695634, 0.0, 0.0, 0.0, 0.0, 0.0, 0.0, 0.0, 0.001298142587556405]}}, 'reference': {'small_distribution': {'x': [4054.199744, 4626.7797696, 5199.3597952, 5771.9398208, 6344.5198464000005, 6917.099872000001, 7489.6798976, 8062.259923199999, 8634.8399488, 9207.4199744, 9780.0], 'y': [0.0002910801271700295, 0.0, 0.000351721820330452, 0.0, 9.70267090566764e-05, 0.0, 0.00015766840221709944, 0.0001940534181133528, 0.0002061817567454374, 0.00044874852938712843]}}}}}}]}\n"
     ]
    }
   ],
   "source": [
    "monitor.generate_report(reference_data,current_data,title=\"Input Feature Drift\")"
   ]
  },
  {
   "cell_type": "code",
   "execution_count": null,
   "id": "f58b87d7",
   "metadata": {},
   "outputs": [],
   "source": []
  }
 ],
 "metadata": {
  "kernelspec": {
   "display_name": "Python 3 (ipykernel)",
   "language": "python",
   "name": "python3"
  },
  "language_info": {
   "codemirror_mode": {
    "name": "ipython",
    "version": 3
   },
   "file_extension": ".py",
   "mimetype": "text/x-python",
   "name": "python",
   "nbconvert_exporter": "python",
   "pygments_lexer": "ipython3",
   "version": "3.11.5"
  }
 },
 "nbformat": 4,
 "nbformat_minor": 5
}
